{
 "cells": [
  {
   "cell_type": "code",
   "execution_count": 1,
   "id": "5d8fa587-c1ed-4973-ac48-fcb45d7d57e7",
   "metadata": {},
   "outputs": [
    {
     "name": "stderr",
     "output_type": "stream",
     "text": [
      "/Users/paulshmiedmayer/Library/Python/3.9/lib/python/site-packages/urllib3/__init__.py:34: NotOpenSSLWarning: urllib3 v2.0 only supports OpenSSL 1.1.1+, currently the 'ssl' module is compiled with 'LibreSSL 2.8.3'. See: https://github.com/urllib3/urllib3/issues/3020\n",
      "  warnings.warn(\n"
     ]
    },
    {
     "name": "stdout",
     "output_type": "stream",
     "text": [
      "model_type not provided, defaulting to radgraph-xl\n",
      "{'0': {'text': 'no evidence of acute cardiopulmonary process moderate hiatal hernia', 'entities': {'1': {'tokens': 'acute', 'label': 'Observation::definitely absent', 'start_ix': 3, 'end_ix': 3, 'relations': [['modify', '3']]}, '2': {'tokens': 'cardiopulmonary', 'label': 'Anatomy::definitely present', 'start_ix': 4, 'end_ix': 4, 'relations': []}, '3': {'tokens': 'process', 'label': 'Observation::definitely absent', 'start_ix': 5, 'end_ix': 5, 'relations': [['located_at', '2']]}, '4': {'tokens': 'moderate', 'label': 'Observation::definitely present', 'start_ix': 6, 'end_ix': 6, 'relations': [['modify', '5']]}, '5': {'tokens': 'hiatal hernia', 'label': 'Observation::definitely present', 'start_ix': 7, 'end_ix': 8, 'relations': []}}, 'data_source': None, 'data_split': 'inference'}}\n"
     ]
    }
   ],
   "source": [
    "from radgraph import RadGraph, F1RadGraph\n",
    "\n",
    "radgraph = RadGraph()\n",
    "annotations = radgraph([\"no evidence of acute cardiopulmonary process moderate hiatal hernia\"])\n",
    "print(annotations)"
   ]
  },
  {
   "cell_type": "code",
   "execution_count": 2,
   "id": "59127a7e-c43e-415a-8c90-bae1fe473d41",
   "metadata": {},
   "outputs": [
    {
     "name": "stdout",
     "output_type": "stream",
     "text": [
      "model_type not provided, defaulting to radgraph-xl\n",
      "(0.6428571428571429, 0.6428571428571429, 0.625) ([1.0, 0.28571428571428575], [1.0, 0.28571428571428575], [1.0, 0.25]) [{'text': 'no acute cardiopulmonary abnormality', 'entities': {'1': {'tokens': 'acute', 'label': 'Observation::definitely absent', 'start_ix': 1, 'end_ix': 1, 'relations': []}, '2': {'tokens': 'cardiopulmonary', 'label': 'Anatomy::definitely present', 'start_ix': 2, 'end_ix': 2, 'relations': []}, '3': {'tokens': 'abnormality', 'label': 'Observation::definitely absent', 'start_ix': 3, 'end_ix': 3, 'relations': [['located_at', '2']]}}, 'data_source': None, 'data_split': 'inference'}, {'text': 'endotracheal tube terminates 2 5 cm above the carina bibasilar opacities likely represent atelectasis or aspiration', 'entities': {'1': {'tokens': 'endotracheal', 'label': 'Observation::definitely present', 'start_ix': 0, 'end_ix': 0, 'relations': [['modify', '2']]}, '2': {'tokens': 'tube', 'label': 'Observation::definitely present', 'start_ix': 1, 'end_ix': 1, 'relations': [['located_at', '4']]}, '3': {'tokens': '2 5 cm above', 'label': 'Anatomy::measurement::definitely present', 'start_ix': 3, 'end_ix': 6, 'relations': [['modify', '4']]}, '4': {'tokens': 'carina', 'label': 'Anatomy::definitely present', 'start_ix': 8, 'end_ix': 8, 'relations': []}, '5': {'tokens': 'bibasilar', 'label': 'Anatomy::definitely present', 'start_ix': 9, 'end_ix': 9, 'relations': []}, '6': {'tokens': 'opacities', 'label': 'Observation::definitely present', 'start_ix': 10, 'end_ix': 10, 'relations': [['located_at', '5'], ['suggestive_of', '7'], ['suggestive_of', '8']]}, '7': {'tokens': 'atelectasis', 'label': 'Observation::uncertain', 'start_ix': 13, 'end_ix': 13, 'relations': []}, '8': {'tokens': 'aspiration', 'label': 'Observation::uncertain', 'start_ix': 15, 'end_ix': 15, 'relations': []}}, 'data_source': None, 'data_split': 'inference'}] [{'text': 'no acute cardiopulmonary abnormality', 'entities': {'1': {'tokens': 'acute', 'label': 'Observation::definitely absent', 'start_ix': 1, 'end_ix': 1, 'relations': []}, '2': {'tokens': 'cardiopulmonary', 'label': 'Anatomy::definitely present', 'start_ix': 2, 'end_ix': 2, 'relations': []}, '3': {'tokens': 'abnormality', 'label': 'Observation::definitely absent', 'start_ix': 3, 'end_ix': 3, 'relations': [['located_at', '2']]}}, 'data_source': None, 'data_split': 'inference'}, {'text': 'et tube terminates 2 cm above the carina retraction by several centimeters is recommended for more optimal placement bibasilar consolidations better assessed on concurrent chest ct', 'entities': {'1': {'tokens': 'et tube', 'label': 'Observation::definitely present', 'start_ix': 0, 'end_ix': 1, 'relations': [['located_at', '2']]}, '2': {'tokens': '2 cm above', 'label': 'Anatomy::measurement::definitely present', 'start_ix': 3, 'end_ix': 5, 'relations': [['modify', '3']]}, '3': {'tokens': 'carina', 'label': 'Anatomy::definitely present', 'start_ix': 7, 'end_ix': 7, 'relations': []}, '4': {'tokens': 'retraction', 'label': 'Observation::definitely present', 'start_ix': 8, 'end_ix': 8, 'relations': []}, '5': {'tokens': 'bibasilar', 'label': 'Anatomy::definitely present', 'start_ix': 18, 'end_ix': 18, 'relations': []}, '6': {'tokens': 'consolidations', 'label': 'Observation::definitely present', 'start_ix': 19, 'end_ix': 19, 'relations': [['located_at', '5']]}}, 'data_source': None, 'data_split': 'inference'}]\n"
     ]
    }
   ],
   "source": [
    "refs = [\"no acute cardiopulmonary abnormality\",\n",
    "        \"et tube terminates 2 cm above the carina retraction by several centimeters is recommended for more optimal placement bibasilar consolidations better assessed on concurrent chest ct\"\n",
    "]\n",
    "\n",
    "hyps = [\"no acute cardiopulmonary abnormality\",\n",
    "        \"endotracheal tube terminates 2 5 cm above the carina bibasilar opacities likely represent atelectasis or aspiration\",\n",
    "]\n",
    "f1radgraph = F1RadGraph(reward_level=\"all\")\n",
    "mean_reward, reward_list, hypothesis_annotation_lists, reference_annotation_lists = f1radgraph(hyps=hyps, refs=refs)\n",
    "\n",
    "print(mean_reward, reward_list, hypothesis_annotation_lists, reference_annotation_lists)"
   ]
  },
  {
   "cell_type": "code",
   "execution_count": 3,
   "id": "de2129b0-9e19-4435-bd6d-f8ed4d83568d",
   "metadata": {},
   "outputs": [
    {
     "name": "stderr",
     "output_type": "stream",
     "text": [
      "huggingface/tokenizers: The current process just got forked, after parallelism has already been used. Disabling parallelism to avoid deadlocks...\n",
      "To disable this warning, you can either:\n",
      "\t- Avoid using `tokenizers` before the fork if possible\n",
      "\t- Explicitly set the environment variable TOKENIZERS_PARALLELISM=(true | false)\n"
     ]
    },
    {
     "name": "stdout",
     "output_type": "stream",
     "text": [
      "\u001b[1m============================= test session starts ==============================\u001b[0m\n",
      "platform darwin -- Python 3.9.6, pytest-8.2.2, pluggy-1.5.0\n",
      "rootdir: /Users/paulshmiedmayer/Downloads/radgraph\n",
      "plugins: anyio-4.0.0\n",
      "collected 0 items / 1 error                                                    \u001b[0m\u001b[1m\n",
      "\n",
      "==================================== ERRORS ====================================\n",
      "\u001b[31m\u001b[1m___________________ ERROR collecting tests/radgraph_test.py ____________________\u001b[0m\n",
      "\u001b[1m\u001b[31mtests/radgraph_test.py\u001b[0m:47: in <module>\n",
      "    \u001b[0mtest_radgraph()\u001b[90m\u001b[39;49;00m\n",
      "\u001b[1m\u001b[31mtests/radgraph_test.py\u001b[0m:7: in test_radgraph\n",
      "    \u001b[0m\u001b[94massert\u001b[39;49;00m annotations == {\u001b[33m'\u001b[39;49;00m\u001b[33m0\u001b[39;49;00m\u001b[33m'\u001b[39;49;00m: {\u001b[33m'\u001b[39;49;00m\u001b[33mtext\u001b[39;49;00m\u001b[33m'\u001b[39;49;00m: \u001b[33m'\u001b[39;49;00m\u001b[33mno evidence of acute cardiopulmonary process moderate hiatal hernia\u001b[39;49;00m\u001b[33m'\u001b[39;49;00m,\u001b[90m\u001b[39;49;00m\n",
      "\u001b[1m\u001b[31mE   AssertionError: assert {'0': {'data_source': None, 'data_split': 'inference', 'entities': {'1': {'end_ix': 3, 'label': 'Observation::definite...ify', '5']], 'start_ix': 6, ...}, ...}, 'text': 'no evidence of acute cardiopulmonary process moderate hiatal hernia'}} == {'0': {'data_source': None, 'data_split': 'inference', 'entities': {'1': {'end_ix': 3, 'label': 'OBS-DA', 'relations':...ations': [], 'start_ix': 6, ...}, ...}, 'text': 'no evidence of acute cardiopulmonary process moderate hiatal hernia'}}\u001b[0m\n",
      "------------------------------- Captured stdout --------------------------------\n",
      "model_type not provided, defaulting to radgraph-xl\n",
      "\u001b[33m=============================== warnings summary ===============================\u001b[0m\n",
      "../../Library/Python/3.9/lib/python/site-packages/urllib3/__init__.py:34\n",
      "  /Users/paulshmiedmayer/Library/Python/3.9/lib/python/site-packages/urllib3/__init__.py:34: NotOpenSSLWarning: urllib3 v2.0 only supports OpenSSL 1.1.1+, currently the 'ssl' module is compiled with 'LibreSSL 2.8.3'. See: https://github.com/urllib3/urllib3/issues/3020\n",
      "    warnings.warn(\n",
      "\n",
      "-- Docs: https://docs.pytest.org/en/stable/how-to/capture-warnings.html\n",
      "\u001b[36m\u001b[1m=========================== short test summary info ============================\u001b[0m\n",
      "\u001b[31mERROR\u001b[0m tests/radgraph_test.py - AssertionError: assert {'0': {'data_source': None, 'data_split': 'inference...\n",
      "!!!!!!!!!!!!!!!!!!!! Interrupted: 1 error during collection !!!!!!!!!!!!!!!!!!!!\n",
      "\u001b[31m========================= \u001b[33m1 warning\u001b[0m, \u001b[31m\u001b[1m1 error\u001b[0m\u001b[31m in 3.30s\u001b[0m\u001b[31m ==========================\u001b[0m\n"
     ]
    }
   ],
   "source": [
    "! pytest"
   ]
  },
  {
   "cell_type": "code",
   "execution_count": null,
   "id": "36ad2c2a-6486-445a-b225-91fc11f33af0",
   "metadata": {},
   "outputs": [],
   "source": []
  }
 ],
 "metadata": {
  "kernelspec": {
   "display_name": "Python 3 (ipykernel)",
   "language": "python",
   "name": "python3"
  },
  "language_info": {
   "codemirror_mode": {
    "name": "ipython",
    "version": 3
   },
   "file_extension": ".py",
   "mimetype": "text/x-python",
   "name": "python",
   "nbconvert_exporter": "python",
   "pygments_lexer": "ipython3",
   "version": "3.9.6"
  }
 },
 "nbformat": 4,
 "nbformat_minor": 5
}
